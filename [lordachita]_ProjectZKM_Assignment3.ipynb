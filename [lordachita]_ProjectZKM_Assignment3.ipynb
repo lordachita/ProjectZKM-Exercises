{
  "nbformat": 4,
  "nbformat_minor": 0,
  "metadata": {
    "colab": {
      "provenance": [],
      "authorship_tag": "ABX9TyNB1JEpLI45hu5QNCo1WRWe"
    },
    "kernelspec": {
      "name": "python3",
      "display_name": "Python 3"
    },
    "language_info": {
      "name": "python"
    }
  },
  "cells": [
    {
      "cell_type": "code",
      "source": [
        "import numpy as np"
      ],
      "metadata": {
        "id": "HhdwFkhw8fkU"
      },
      "execution_count": 91,
      "outputs": []
    },
    {
      "cell_type": "markdown",
      "source": [
        "#1 (a)\n",
        "\n",
        "Consider the \"zero knowledge proof for discrete log\", repeated here with step numbers added : </br>$\\mathcal{P}$ : \"I know the discrete log for the equation \" </br>\n",
        "Implement the protocol in Python."
      ],
      "metadata": {
        "id": "FMY13tTd72Rk"
      }
    },
    {
      "cell_type": "code",
      "source": [
        "def pow(a, x, p):\n",
        "  return (a ** x) % p"
      ],
      "metadata": {
        "id": "aV80j6og87pr"
      },
      "execution_count": 92,
      "outputs": []
    },
    {
      "cell_type": "code",
      "source": [
        "class Prover:\n",
        "\n",
        "  def __init__(self, alpha, p, x):\n",
        "    self.alpha = alpha # generator\n",
        "    self.p = p             # prime\n",
        "    self.x = x              # secret\n",
        "    self.beta = pow(alpha, x, p)\n",
        "\n",
        "  def generate_commit(self):\n",
        "    self.y = np.random.randint(0, self.p)\n",
        "    self.gamma = pow(self.alpha, self.y, self.p)\n",
        "    return self.gamma\n",
        "\n",
        "  def generate_response(self, c):\n",
        "    r = c * self.x + self.y\n",
        "    return r"
      ],
      "metadata": {
        "id": "ty-163V9Czu5"
      },
      "execution_count": 93,
      "outputs": []
    },
    {
      "cell_type": "code",
      "source": [
        "class Verifier:\n",
        "\n",
        "  def __init__(self, alpha, p, beta):\n",
        "    self.alpha = alpha\n",
        "    self.p = p\n",
        "    self.beta = beta\n",
        "\n",
        "  def generate_challenge(self):\n",
        "    self.c = np.random.randint(0, 2)\n",
        "    return self.c\n",
        "\n",
        "  def generate_verify(self, r, gamma):\n",
        "    return pow(self.alpha, r, p) == (self.beta**self.c  * gamma) % p"
      ],
      "metadata": {
        "id": "CY0VpZk6KC62"
      },
      "execution_count": 94,
      "outputs": []
    },
    {
      "cell_type": "markdown",
      "source": [
        "## Variables"
      ],
      "metadata": {
        "id": "QJkYjHifTcs_"
      }
    },
    {
      "cell_type": "code",
      "source": [
        "x = np.random.randint(0, p)\n",
        "print(x)"
      ],
      "metadata": {
        "colab": {
          "base_uri": "https://localhost:8080/"
        },
        "id": "HJzTXpegAUL_",
        "outputId": "b177d89b-2e0d-4c45-cf1b-b78e6ee217b6"
      },
      "execution_count": 95,
      "outputs": [
        {
          "output_type": "stream",
          "name": "stdout",
          "text": [
            "95\n"
          ]
        }
      ]
    },
    {
      "cell_type": "code",
      "source": [
        "delta = 1\n",
        "\n",
        "while delta == 1:\n",
        "  alpha = np.random.randint(0, p)\n",
        "  delta = pow(alpha, (p-1)//2, p)\n",
        "\n",
        "print(alpha)"
      ],
      "metadata": {
        "colab": {
          "base_uri": "https://localhost:8080/"
        },
        "id": "SHjRtYYc9Y1Y",
        "outputId": "5ae63824-3478-487c-9b32-dd43af52ecf8"
      },
      "execution_count": 96,
      "outputs": [
        {
          "output_type": "stream",
          "name": "stdout",
          "text": [
            "40\n"
          ]
        }
      ]
    },
    {
      "cell_type": "code",
      "source": [
        "p = 97"
      ],
      "metadata": {
        "id": "Gf9GrY9aRcIT"
      },
      "execution_count": 97,
      "outputs": []
    },
    {
      "cell_type": "code",
      "source": [
        "beta = pow(alpha, x, p)\n",
        "print(beta)"
      ],
      "metadata": {
        "colab": {
          "base_uri": "https://localhost:8080/"
        },
        "id": "mr19HUB38oB_",
        "outputId": "c3490c3e-5d78-4bc4-be08-4c447c5de7cd"
      },
      "execution_count": 98,
      "outputs": [
        {
          "output_type": "stream",
          "name": "stdout",
          "text": [
            "17\n"
          ]
        }
      ]
    },
    {
      "cell_type": "code",
      "source": [
        "k = 1000"
      ],
      "metadata": {
        "id": "iyHM5SBJOHGK"
      },
      "execution_count": 99,
      "outputs": []
    },
    {
      "cell_type": "markdown",
      "source": [
        "## Main Algorithm"
      ],
      "metadata": {
        "id": "_SZ2sGcbTZx5"
      }
    },
    {
      "cell_type": "code",
      "source": [
        "# Step Init\n",
        "prover = Prover(alpha, p, x)\n",
        "verifier = Verifier(alpha, p, prover.beta)"
      ],
      "metadata": {
        "id": "0NQsBzB9JuoU"
      },
      "execution_count": 114,
      "outputs": []
    },
    {
      "cell_type": "code",
      "source": [
        "for i in range(k):\n",
        "\n",
        "  # Step 1\n",
        "  gamma = prover.generate_commit()\n",
        "\n",
        "  #Step 2\n",
        "  c = verifier.generate_challenge()\n",
        "\n",
        "  #Step 3\n",
        "  r = prover.generate_response(c)\n",
        "\n",
        "  if not verifier.generate_verify(r, gamma):\n",
        "    print('Error!')\n",
        "    break"
      ],
      "metadata": {
        "id": "sjmhdLGZLgWZ"
      },
      "execution_count": 102,
      "outputs": []
    },
    {
      "cell_type": "markdown",
      "source": [
        "# 1 (b)\n",
        "\n",
        "Run one instance of the protocol imagining both challenges $c = 0$ and $c = 1$ occur, and show that\n",
        "one can compute $x$ from $r_0 = y$ and $r_1 = (x+y)$ and the earlier protocol steps. So this is a computational confirmation of the statement that if $\\mathcal{P}$ can answer both challenges, she must\n",
        "know $x$."
      ],
      "metadata": {
        "id": "06_2IHU4T2nH"
      }
    },
    {
      "cell_type": "code",
      "source": [
        "gamma = prover.generate_commit()\n",
        "#c = verifier.generate_challenge()\n",
        "#r = prover.generate_response(c)\n",
        "r_0 = prover.generate_response(0)\n",
        "r_1 = prover.generate_response(1)"
      ],
      "metadata": {
        "id": "Aa8D6rTFmuRy"
      },
      "execution_count": 115,
      "outputs": []
    },
    {
      "cell_type": "code",
      "source": [
        "r_1-r_0"
      ],
      "metadata": {
        "colab": {
          "base_uri": "https://localhost:8080/"
        },
        "id": "iTUl_I4jnPWQ",
        "outputId": "a51745b6-5e3a-4908-beaf-5b16a1b9f55e"
      },
      "execution_count": 116,
      "outputs": [
        {
          "output_type": "execute_result",
          "data": {
            "text/plain": [
              "95"
            ]
          },
          "metadata": {},
          "execution_count": 116
        }
      ]
    },
    {
      "cell_type": "markdown",
      "source": [
        "# 1 (c)\n",
        "\n",
        "Now suppose that $\\mathcal{P}$ does not know $x$, and that she guesses that $\\mathcal{V}$ 's challenge $c$ will 0.\n",
        "Explain which message she must send in Step 1 in order to pass the check by $\\mathcal{V}$ in Step 3."
      ],
      "metadata": {
        "id": "kD-fxZhNT4Yk"
      }
    },
    {
      "cell_type": "markdown",
      "source": [
        "She just send y."
      ],
      "metadata": {
        "id": "3X73TECMpXEt"
      }
    },
    {
      "cell_type": "markdown",
      "source": [
        "# 1 (d)\n",
        "\n",
        "Same question if $\\mathcal{P}$ guesses that $\\mathcal{V}$'s challenge $c$ will 1.\n",
        "Observe that this presents a mechanism for transforming this proof of knowledge into a protocol\n",
        "for bit commitment for a computationally restricted party without that knowledge."
      ],
      "metadata": {
        "id": "8XdN0V8EWzEH"
      }
    },
    {
      "cell_type": "markdown",
      "source": [
        "Impossible to continuously guess correctly with high iteration number."
      ],
      "metadata": {
        "id": "25OuFBKJpxoM"
      }
    }
  ]
}